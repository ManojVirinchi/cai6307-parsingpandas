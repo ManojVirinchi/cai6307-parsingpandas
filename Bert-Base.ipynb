{
 "cells": [
  {
   "cell_type": "code",
   "execution_count": 1,
   "id": "dbcd83d4-149b-4e2c-8d54-54a3b4dfca97",
   "metadata": {
    "tags": []
   },
   "outputs": [],
   "source": [
    "import torch"
   ]
  },
  {
   "cell_type": "code",
   "execution_count": 1,
   "id": "abec9f30-fbf6-4819-82f3-39e99121fe56",
   "metadata": {
    "tags": []
   },
   "outputs": [],
   "source": [
    "import json\n",
    "import pandas as pd\n",
    "import numpy as np\n",
    "from pathlib import Path\n",
    "import torch\n",
    "from torch.utils.data import DataLoader, TensorDataset\n",
    "from transformers import BertTokenizer, BertForQuestionAnswering\n",
    "import time"
   ]
  },
  {
   "cell_type": "code",
   "execution_count": 2,
   "id": "98b0ec48-1e0c-45fd-b50f-693174a15db4",
   "metadata": {
    "tags": []
   },
   "outputs": [
    {
     "name": "stdout",
     "output_type": "stream",
     "text": [
      "GPU is available\n"
     ]
    }
   ],
   "source": [
    "is_cuda = torch.cuda.is_available()\n",
    "\n",
    "# If we have a GPU available, we'll set our device to GPU.\n",
    "if is_cuda:\n",
    "    device = torch.device(\"cuda\")\n",
    "    print(\"GPU is available\")\n",
    "else:\n",
    "    device = torch.device(\"cpu\")\n",
    "    print(\"GPU not available, CPU used\")"
   ]
  },
  {
   "cell_type": "code",
   "execution_count": 3,
   "id": "27534010-d881-4e37-b1a1-54f7e60e77f8",
   "metadata": {
    "tags": []
   },
   "outputs": [],
   "source": [
    "%%capture\n",
    "!mkdir squad\n",
    "!wget https://rajpurkar.github.io/SQuAD-explorer/dataset/train-v2.0.json -O squad/train-v2.0.json\n",
    "!wget https://rajpurkar.github.io/SQuAD-explorer/dataset/dev-v2.0.json -O squad/dev-v2.0.json"
   ]
  },
  {
   "cell_type": "code",
   "execution_count": 6,
   "id": "c2f53781-09a5-4b70-ad07-d23710f94d08",
   "metadata": {
    "tags": []
   },
   "outputs": [],
   "source": [
    "# Define the path to the SQuAD 2.0 training data\n",
    "path = \"squad/train-v2.0.json\"\n",
    "\n",
    "# Load and preprocess the SQuAD 2.0 data\n",
    "def load_squad_data(path):\n",
    "    with open(path, 'rb') as f:\n",
    "        squad_dict = json.load(f)\n",
    "\n",
    "    texts = []\n",
    "    questions = []\n",
    "    answers = []\n",
    "\n",
    "    for group in squad_dict['data']:\n",
    "        for passage in group['paragraphs']:\n",
    "            context = passage['context']\n",
    "            for qa in passage['qas']:\n",
    "                question = qa['question']\n",
    "                for answer in qa['answers']:\n",
    "                    texts.append(context)\n",
    "                    questions.append(question)\n",
    "                    answers.append(answer)\n",
    "\n",
    "    return texts, questions, answers\n",
    "\n",
    "# Preprocess the data to find answer start and end positions\n",
    "train_texts, train_queries, train_answers = load_squad_data(path)"
   ]
  },
  {
   "cell_type": "code",
   "execution_count": 7,
   "id": "1f0ce6b8-12aa-4112-83ef-f32a5146ba59",
   "metadata": {
    "tags": []
   },
   "outputs": [],
   "source": [
    "# Give the path for SQuAD 2.0 validation data\n",
    "path = Path('squad/dev-v2.0.json')\n",
    "\n",
    "# Load and preprocess the SQuAD 2.0 data\n",
    "def load_squad_data(path):\n",
    "    with open(path, 'rb') as f:\n",
    "        squad_dict = json.load(f)\n",
    "\n",
    "    texts = []\n",
    "    questions = []\n",
    "    answers = []\n",
    "\n",
    "    for group in squad_dict['data']:\n",
    "        for passage in group['paragraphs']:\n",
    "            context = passage['context']\n",
    "            for qa in passage['qas']:\n",
    "                question = qa['question']\n",
    "                for answer in qa['answers']:\n",
    "                    texts.append(context)\n",
    "                    questions.append(question)\n",
    "                    answers.append(answer)\n",
    "\n",
    "    return texts, questions, answers\n",
    "\n",
    "# Preprocess the data to find answer start and end positions\n",
    "val_texts, val_queries, val_answers = load_squad_data(path)"
   ]
  },
  {
   "cell_type": "code",
   "execution_count": 8,
   "id": "77661fda-32db-4a42-87fd-066c3909bbba",
   "metadata": {
    "tags": []
   },
   "outputs": [
    {
     "name": "stdout",
     "output_type": "stream",
     "text": [
      "86821\n",
      "86821\n",
      "86821\n"
     ]
    }
   ],
   "source": [
    "print(len(train_texts))\n",
    "print(len(train_queries))\n",
    "print(len(train_answers))"
   ]
  },
  {
   "cell_type": "code",
   "execution_count": 9,
   "id": "c78e9a41-7f67-41e0-baa0-b3f5ca02d6f5",
   "metadata": {
    "tags": []
   },
   "outputs": [
    {
     "name": "stdout",
     "output_type": "stream",
     "text": [
      "20302\n",
      "20302\n",
      "20302\n"
     ]
    }
   ],
   "source": [
    "print(len(val_texts))\n",
    "print(len(val_queries))\n",
    "print(len(val_answers))"
   ]
  },
  {
   "cell_type": "code",
   "execution_count": 10,
   "id": "edc58784-7b55-4a23-8351-d18b0a8a927e",
   "metadata": {
    "tags": []
   },
   "outputs": [],
   "source": [
    "for answer, text in zip(train_answers, train_texts):\n",
    "    real_answer = answer['text']\n",
    "    start_idx = answer['answer_start']\n",
    "    # Get the real end index\n",
    "    end_idx = start_idx + len(real_answer)\n",
    "\n",
    "    # Deal with the problem of 1 or 2 more characters\n",
    "    if text[start_idx:end_idx] == real_answer:\n",
    "        answer['answer_end'] = end_idx\n",
    "    # When the real answer is more by one character\n",
    "    elif text[start_idx-1:end_idx-1] == real_answer:\n",
    "        answer['answer_start'] = start_idx - 1\n",
    "        answer['answer_end'] = end_idx - 1\n",
    "    # When the real answer is more by two characters\n",
    "    elif text[start_idx-2:end_idx-2] == real_answer:\n",
    "        answer['answer_start'] = start_idx - 2\n",
    "        answer['answer_end'] = end_idx - 2"
   ]
  },
  {
   "cell_type": "code",
   "execution_count": 11,
   "id": "93e10952-c3e5-4d3b-98f1-4cd5c4ae4d27",
   "metadata": {
    "tags": []
   },
   "outputs": [],
   "source": [
    "for answer, text in zip(val_answers, val_texts):\n",
    "    real_answer = answer['text']\n",
    "    start_idx = answer['answer_start']\n",
    "    # Get the real end index\n",
    "    end_idx = start_idx + len(real_answer)\n",
    "\n",
    "    # Deal with the problem of 1 or 2 more characters\n",
    "    if text[start_idx:end_idx] == real_answer:\n",
    "        answer['answer_end'] = end_idx\n",
    "    # When the real answer is more by one character\n",
    "    elif text[start_idx-1:end_idx-1] == real_answer:\n",
    "        answer['answer_start'] = start_idx - 1\n",
    "        answer['answer_end'] = end_idx - 1\n",
    "    # When the real answer is more by two characters\n",
    "    elif text[start_idx-2:end_idx-2] == real_answer:\n",
    "        answer['answer_start'] = start_idx - 2\n",
    "        answer['answer_end'] = end_idx - 2\n"
   ]
  },
  {
   "cell_type": "code",
   "execution_count": 12,
   "id": "289a1edb-9530-4893-894d-d1e4287958d7",
   "metadata": {
    "tags": []
   },
   "outputs": [],
   "source": [
    "from transformers import AutoTokenizer\n",
    "tokenizer = AutoTokenizer.from_pretrained(\"bert-base-cased\")"
   ]
  },
  {
   "cell_type": "code",
   "execution_count": 13,
   "id": "38db2dbf-7149-4c2a-8f6c-afd0be83f313",
   "metadata": {
    "tags": []
   },
   "outputs": [],
   "source": [
    "train_encodings = tokenizer(train_texts, train_queries, truncation=True, padding=True)\n",
    "val_encodings = tokenizer(val_texts, val_queries, truncation=True, padding=True)"
   ]
  },
  {
   "cell_type": "code",
   "execution_count": 14,
   "id": "fabfc17f-77ee-4990-a3e9-419740eb2162",
   "metadata": {
    "tags": []
   },
   "outputs": [],
   "source": [
    "def add_token_positions(encodings, answers):\n",
    "    start_positions = []\n",
    "    end_positions = []\n",
    "    \n",
    "    count = 0\n",
    "    \n",
    "    for i in range(len(answers)):\n",
    "        start_positions.append(encodings.char_to_token(i, answers[i]['answer_start']))\n",
    "        end_positions.append(encodings.char_to_token(i, answers[i]['answer_end']))\n",
    "        \n",
    "        # if start position is None, the answer passage has been truncated\n",
    "        if start_positions[-1] is None:\n",
    "            start_positions[-1] = tokenizer.model_max_length\n",
    "            \n",
    "        # if end position is None, the 'char_to_token' function points to the space after the correct token, so add - 1\n",
    "        if end_positions[-1] is None:\n",
    "            end_positions[-1] = encodings.char_to_token(i, answers[i]['answer_end'] - 1)\n",
    "            \n",
    "            # if end position is still None the answer passage has been truncated\n",
    "            if end_positions[-1] is None:\n",
    "                count += 1\n",
    "                end_positions[-1] = tokenizer.model_max_length\n",
    "    print(count)\n",
    "    \n",
    "    # Update the data in dictionary\n",
    "    encodings.update({'start_positions': start_positions, 'end_positions': end_positions})"
   ]
  },
  {
   "cell_type": "code",
   "execution_count": 15,
   "id": "036241c0-c91f-43bd-ae3e-4fe540370c14",
   "metadata": {
    "tags": []
   },
   "outputs": [
    {
     "name": "stdout",
     "output_type": "stream",
     "text": [
      "13\n",
      "17\n"
     ]
    }
   ],
   "source": [
    "add_token_positions(train_encodings, train_answers)\n",
    "add_token_positions(val_encodings, val_answers)"
   ]
  },
  {
   "cell_type": "code",
   "execution_count": 16,
   "id": "aa551276-84c4-4e0d-8fbf-48a1cfa813fb",
   "metadata": {
    "tags": []
   },
   "outputs": [],
   "source": [
    "class SquadDataset(torch.utils.data.Dataset):\n",
    "    def __init__(self, encodings):\n",
    "        self.encodings = encodings\n",
    "\n",
    "    def __getitem__(self, idx):\n",
    "        return {key: torch.tensor(val[idx]) for key, val in self.encodings.items()}\n",
    "\n",
    "    def __len__(self):\n",
    "        return len(self.encodings.input_ids)"
   ]
  },
  {
   "cell_type": "code",
   "execution_count": 17,
   "id": "afbe90c5-db86-4d0a-800e-2c54219d1110",
   "metadata": {
    "tags": []
   },
   "outputs": [],
   "source": [
    "train_dataset = SquadDataset(train_encodings)\n",
    "val_dataset = SquadDataset(val_encodings)"
   ]
  },
  {
   "cell_type": "code",
   "execution_count": 18,
   "id": "43959391-83e4-4518-ac83-109c453cfcc2",
   "metadata": {
    "tags": []
   },
   "outputs": [],
   "source": [
    "train_loader = DataLoader(train_dataset, batch_size=8, shuffle=True)\n",
    "val_loader = DataLoader(val_dataset, batch_size=8, shuffle=True)"
   ]
  },
  {
   "cell_type": "code",
   "execution_count": 19,
   "id": "958da0f6-1882-4888-b6fe-ed6c9d74b1a6",
   "metadata": {
    "tags": []
   },
   "outputs": [],
   "source": [
    "device = torch.device('cuda:0' if torch.cuda.is_available()\n",
    "                      else 'cpu')"
   ]
  },
  {
   "cell_type": "code",
   "execution_count": 20,
   "id": "1e3b01ce-adfd-47a4-9e37-221875ee22f7",
   "metadata": {
    "tags": []
   },
   "outputs": [
    {
     "name": "stderr",
     "output_type": "stream",
     "text": [
      "Some weights of BertForQuestionAnswering were not initialized from the model checkpoint at bert-base-cased and are newly initialized: ['qa_outputs.bias', 'qa_outputs.weight']\n",
      "You should probably TRAIN this model on a down-stream task to be able to use it for predictions and inference.\n"
     ]
    }
   ],
   "source": [
    "model = BertForQuestionAnswering.from_pretrained('bert-base-cased').to(device)"
   ]
  },
  {
   "cell_type": "code",
   "execution_count": 21,
   "id": "5be7752e-88da-4d2c-9f28-a4c23c9d097e",
   "metadata": {
    "tags": []
   },
   "outputs": [
    {
     "name": "stderr",
     "output_type": "stream",
     "text": [
      "/home/sa.ekbote/.local/lib/python3.10/site-packages/transformers/optimization.py:457: FutureWarning: This implementation of AdamW is deprecated and will be removed in a future version. Use the PyTorch implementation torch.optim.AdamW instead, or set `no_deprecation_warning=True` to disable this warning\n",
      "  warnings.warn(\n"
     ]
    }
   ],
   "source": [
    "from transformers import AdamW\n",
    "optim = AdamW(model.parameters(), lr=5e-5)\n",
    "\n",
    "epochs = 3"
   ]
  },
  {
   "cell_type": "code",
   "execution_count": 23,
   "id": "35d8fffa-44c6-4086-9705-7c940e3aeb4d",
   "metadata": {
    "tags": []
   },
   "outputs": [],
   "source": [
    "from collections import Counter\n",
    "import string\n",
    "import re\n",
    "\n",
    "def normalize_answer(s):\n",
    "    \"\"\"Lower text and remove punctuation, articles and extra whitespace.\"\"\"\n",
    "    def remove_articles(text):\n",
    "        return re.sub(r'\\b(a|an|the)\\b', ' ', text)\n",
    "    \n",
    "    def white_space_fix(text):\n",
    "        return ' '.join(text.split())\n",
    "    \n",
    "    def remove_punc(text):\n",
    "        exclude = set(string.punctuation)\n",
    "        return ''.join(ch for ch in text if ch not in exclude)\n",
    "    \n",
    "    def lower(text):\n",
    "        return text.lower()\n",
    "    \n",
    "    return white_space_fix(remove_articles(remove_punc(lower(s))))\n",
    "\n",
    "def f1_score(prediction, ground_truth):\n",
    "    prediction_tokens = normalize_answer(prediction).split()\n",
    "    ground_truth_tokens = normalize_answer(ground_truth).split()\n",
    "    common = Counter(prediction_tokens) & Counter(ground_truth_tokens)\n",
    "    num_same = sum(common.values())\n",
    "    if num_same == 0:\n",
    "        return 0\n",
    "    precision = 1.0 * num_same / len(prediction_tokens)\n",
    "    recall = 1.0 * num_same / len(ground_truth_tokens)\n",
    "    f1 = (2 * precision * recall) / (precision + recall)\n",
    "    return f1\n",
    "\n",
    "def exact_match_score(prediction, ground_truth):\n",
    "    return normalize_answer(prediction) == normalize_answer(ground_truth)"
   ]
  },
  {
   "cell_type": "code",
   "execution_count": 24,
   "id": "125add30-726e-4d30-96a1-d448ef8dcb03",
   "metadata": {
    "tags": []
   },
   "outputs": [],
   "source": [
    "from torch.cuda.amp import GradScaler, autocast\n",
    "\n",
    "def train_and_evaluate(model, train_loader, val_loader, optimizer, epochs, model_save_path):\n",
    "    train_losses = []\n",
    "    train_accuracies = []\n",
    "    val_losses = []\n",
    "    val_accuracies = []\n",
    "\n",
    "    print_every = 1000  # Print every 500 steps\n",
    "    scaler = GradScaler()  # Initialize the gradient scaler for mixed precision training\n",
    "\n",
    "    for epoch in range(epochs):\n",
    "        # Training\n",
    "        model.train()\n",
    "        total_train_loss = 0\n",
    "        total_train_exact_match = 0\n",
    "        total_train_f1 = 0\n",
    "        total_train_examples = 0\n",
    "\n",
    "        for batch_idx, batch in enumerate(train_loader):\n",
    "            optimizer.zero_grad()\n",
    "\n",
    "            input_ids = batch['input_ids'].to(device)\n",
    "            attention_mask = batch['attention_mask'].to(device)\n",
    "            start_positions = batch['start_positions'].to(device)\n",
    "            end_positions = batch['end_positions'].to(device)\n",
    "\n",
    "            with autocast():  # Enable automatic mixed precision\n",
    "                outputs = model(input_ids, attention_mask=attention_mask, start_positions=start_positions, end_positions=end_positions)\n",
    "                loss = outputs.loss\n",
    "\n",
    "            # Backward pass with mixed precision\n",
    "            scaler.scale(loss).backward()\n",
    "            scaler.step(optimizer)\n",
    "            scaler.update()\n",
    "\n",
    "            total_train_loss += loss.item()\n",
    "\n",
    "            # Convert logits to answer spans (this part is not affected by mixed precision)\n",
    "            start_logits, end_logits = outputs.start_logits, outputs.end_logits\n",
    "            start_predictions = torch.argmax(start_logits, dim=-1)\n",
    "            end_predictions = torch.argmax(end_logits, dim=-1)\n",
    "\n",
    "            for i in range(input_ids.size(0)):\n",
    "                start_pred = start_predictions[i].item()\n",
    "                end_pred = end_predictions[i].item()\n",
    "                predicted_answer = tokenizer.decode(input_ids[i, start_pred:end_pred + 1])\n",
    "\n",
    "                ground_truth_answer = tokenizer.decode(input_ids[i, start_positions[i]:end_positions[i] + 1])\n",
    "\n",
    "                total_train_exact_match += exact_match_score(predicted_answer, ground_truth_answer)\n",
    "                total_train_f1 += f1_score(predicted_answer, ground_truth_answer)\n",
    "                total_train_examples += 1\n",
    "\n",
    "            if (batch_idx + 1) % print_every == 0:\n",
    "                print(f\"Train Epoch: {epoch + 1} [{batch_idx + 1}/{len(train_loader)}]\\tLoss: {loss.item():.6f}\\tExact Match: {total_train_exact_match / total_train_examples:.4f}\\tF1: {total_train_f1 / total_train_examples:.4f}\")\n",
    "\n",
    "        avg_train_loss = total_train_loss / len(train_loader)\n",
    "        avg_train_exact_match = total_train_exact_match / total_train_examples\n",
    "        avg_train_f1 = total_train_f1 / total_train_examples\n",
    "\n",
    "        train_losses.append(avg_train_loss)\n",
    "        train_accuracies.append((avg_train_exact_match, avg_train_f1))\n",
    "\n",
    "        # Validation\n",
    "        model.eval()\n",
    "        total_val_loss = 0\n",
    "        total_val_exact_match = 0\n",
    "        total_val_f1 = 0\n",
    "        total_val_examples = 0\n",
    "\n",
    "        with torch.no_grad():\n",
    "            for batch_idx, batch in enumerate(val_loader):\n",
    "                input_ids = batch['input_ids'].to(device)\n",
    "                attention_mask = batch['attention_mask'].to(device)\n",
    "                start_positions = batch['start_positions'].to(device)\n",
    "                end_positions = batch['end_positions'].to(device)\n",
    "\n",
    "                with autocast():  # Enable automatic mixed precision for evaluation\n",
    "                    outputs = model(input_ids, attention_mask=attention_mask, start_positions=start_positions, end_positions=end_positions)\n",
    "                    loss = outputs.loss\n",
    "\n",
    "                total_val_loss += loss.item()\n",
    "\n",
    "                # Convert logits to answer spans (this part is not affected by mixed precision)\n",
    "                start_logits, end_logits = outputs.start_logits, outputs.end_logits\n",
    "                start_predictions = torch.argmax(start_logits, dim=-1)\n",
    "                end_predictions = torch.argmax(end_logits, dim=-1)\n",
    "\n",
    "                for i in range(input_ids.size(0)):\n",
    "                    start_pred = start_predictions[i].item()\n",
    "                    end_pred = end_predictions[i].item()\n",
    "                    predicted_answer = tokenizer.decode(input_ids[i, start_pred:end_pred + 1])\n",
    "\n",
    "                    ground_truth_answer = tokenizer.decode(input_ids[i, start_positions[i]:end_positions[i] + 1])\n",
    "\n",
    "                    total_val_exact_match += exact_match_score(predicted_answer, ground_truth_answer)\n",
    "                    total_val_f1 += f1_score(predicted_answer, ground_truth_answer)\n",
    "                    total_val_examples += 1\n",
    "\n",
    "                if (batch_idx + 1) % print_every == 0:\n",
    "                    print(f\"Val Epoch: {epoch + 1} [{batch_idx + 1}/{len(val_loader)}]\\tLoss: {loss.item():.6f}\\tExact Match: {total_val_exact_match / total_val_examples:.4f}\\tF1: {total_val_f1 / total_val_examples:.4f}\")\n",
    "\n",
    "        avg_val_loss = total_val_loss / len(val_loader)\n",
    "        avg_val_exact_match = total_val_exact_match / total_val_examples\n",
    "        avg_val_f1 = total_val_f1 / total_val_examples\n",
    "\n",
    "        val_losses.append(avg_val_loss)\n",
    "        val_accuracies.append((avg_val_exact_match, avg_val_f1))\n",
    "\n",
    "        print(f'Epoch {epoch + 1}/{epochs}:')\n",
    "        print(f'Train Loss: {avg_train_loss:.4f}, Train Exact Match: {avg_train_exact_match:.4f}, Train F1: {avg_train_f1:.4f}')\n",
    "        print(f'Val Loss: {avg_val_loss:.4f}, Val Exact Match: {avg_val_exact_match:.4f}, Val F1: {avg_val_f1:.4f}')\n",
    "\n",
    "        # Save the model after each epoch\n",
    "        torch.save(model.state_dict(), f\"{model_save_path}/model_epoch_{epoch + 1}.pth\")\n",
    "\n",
    "    return train_losses, train_accuracies, val_losses, val_accuracies\n"
   ]
  },
  {
   "cell_type": "code",
   "execution_count": 29,
   "id": "b11a5a6e-910e-471a-8833-fd390878e188",
   "metadata": {
    "tags": []
   },
   "outputs": [
    {
     "name": "stdout",
     "output_type": "stream",
     "text": [
      "Train Epoch: 1 [1000/10853]\tLoss: 1.925499\tExact Match: 0.3595\tF1: 0.4851\n",
      "Train Epoch: 1 [2000/10853]\tLoss: 2.275909\tExact Match: 0.4301\tF1: 0.5649\n",
      "Train Epoch: 1 [3000/10853]\tLoss: 0.949722\tExact Match: 0.4607\tF1: 0.5995\n",
      "Train Epoch: 1 [4000/10853]\tLoss: 0.486355\tExact Match: 0.4809\tF1: 0.6206\n",
      "Train Epoch: 1 [5000/10853]\tLoss: 1.549942\tExact Match: 0.4956\tF1: 0.6349\n",
      "Train Epoch: 1 [6000/10853]\tLoss: 1.211668\tExact Match: 0.5055\tF1: 0.6458\n",
      "Train Epoch: 1 [7000/10853]\tLoss: 0.702643\tExact Match: 0.5131\tF1: 0.6538\n",
      "Train Epoch: 1 [8000/10853]\tLoss: 1.498932\tExact Match: 0.5216\tF1: 0.6618\n",
      "Train Epoch: 1 [9000/10853]\tLoss: 1.107862\tExact Match: 0.5287\tF1: 0.6682\n",
      "Train Epoch: 1 [10000/10853]\tLoss: 1.582052\tExact Match: 0.5341\tF1: 0.6735\n",
      "Val Epoch: 1 [1000/2538]\tLoss: 1.075230\tExact Match: 0.5777\tF1: 0.7291\n",
      "Val Epoch: 1 [2000/2538]\tLoss: 0.755912\tExact Match: 0.5803\tF1: 0.7286\n",
      "Epoch 1/3:\n",
      "Train Loss: 1.3606, Train Exact Match: 0.5379, Train F1: 0.6775\n",
      "Val Loss: 1.2309, Val Exact Match: 0.5839, Val F1: 0.7318\n",
      "Train Epoch: 2 [1000/10853]\tLoss: 1.243174\tExact Match: 0.6492\tF1: 0.7810\n",
      "Train Epoch: 2 [2000/10853]\tLoss: 0.746231\tExact Match: 0.6542\tF1: 0.7843\n",
      "Train Epoch: 2 [3000/10853]\tLoss: 1.850441\tExact Match: 0.6515\tF1: 0.7829\n",
      "Train Epoch: 2 [4000/10853]\tLoss: 0.793897\tExact Match: 0.6497\tF1: 0.7815\n",
      "Train Epoch: 2 [5000/10853]\tLoss: 0.307944\tExact Match: 0.6459\tF1: 0.7786\n",
      "Train Epoch: 2 [6000/10853]\tLoss: 1.086835\tExact Match: 0.6446\tF1: 0.7767\n",
      "Train Epoch: 2 [7000/10853]\tLoss: 0.710582\tExact Match: 0.6431\tF1: 0.7757\n",
      "Train Epoch: 2 [8000/10853]\tLoss: 1.213073\tExact Match: 0.6422\tF1: 0.7750\n",
      "Train Epoch: 2 [9000/10853]\tLoss: 0.984801\tExact Match: 0.6402\tF1: 0.7736\n",
      "Train Epoch: 2 [10000/10853]\tLoss: 0.679763\tExact Match: 0.6396\tF1: 0.7731\n",
      "Val Epoch: 2 [1000/2538]\tLoss: 2.228446\tExact Match: 0.5921\tF1: 0.7344\n",
      "Val Epoch: 2 [2000/2538]\tLoss: 0.488966\tExact Match: 0.5938\tF1: 0.7389\n",
      "Epoch 2/3:\n",
      "Train Loss: 0.9759, Train Exact Match: 0.6395, Train F1: 0.7731\n",
      "Val Loss: 1.2821, Val Exact Match: 0.5910, Val F1: 0.7371\n",
      "Train Epoch: 3 [1000/10853]\tLoss: 1.175069\tExact Match: 0.7077\tF1: 0.8336\n",
      "Train Epoch: 3 [2000/10853]\tLoss: 0.681833\tExact Match: 0.7009\tF1: 0.8265\n",
      "Train Epoch: 3 [3000/10853]\tLoss: 0.726274\tExact Match: 0.7000\tF1: 0.8240\n",
      "Train Epoch: 3 [4000/10853]\tLoss: 1.069450\tExact Match: 0.7000\tF1: 0.8234\n",
      "Train Epoch: 3 [5000/10853]\tLoss: 0.913095\tExact Match: 0.6987\tF1: 0.8223\n",
      "Train Epoch: 3 [6000/10853]\tLoss: 0.151623\tExact Match: 0.6966\tF1: 0.8204\n",
      "Train Epoch: 3 [7000/10853]\tLoss: 0.152909\tExact Match: 0.6943\tF1: 0.8183\n",
      "Train Epoch: 3 [8000/10853]\tLoss: 0.857580\tExact Match: 0.6934\tF1: 0.8175\n",
      "Train Epoch: 3 [9000/10853]\tLoss: 0.844131\tExact Match: 0.6912\tF1: 0.8158\n",
      "Train Epoch: 3 [10000/10853]\tLoss: 0.317158\tExact Match: 0.6913\tF1: 0.8156\n",
      "Val Epoch: 3 [1000/2538]\tLoss: 0.956545\tExact Match: 0.5810\tF1: 0.7304\n",
      "Val Epoch: 3 [2000/2538]\tLoss: 1.099353\tExact Match: 0.5770\tF1: 0.7274\n",
      "Epoch 3/3:\n",
      "Train Loss: 0.7923, Train Exact Match: 0.6897, Train F1: 0.8141\n",
      "Val Loss: 1.3288, Val Exact Match: 0.5760, Val F1: 0.7265\n"
     ]
    }
   ],
   "source": [
    "\n",
    "# Example usage\n",
    "model_save_path = \"/home/sa.ekbote/cai6307-parsingpandas/bert_squad_v2/\"\n",
    "train_losses, train_accuracies, val_losses, val_accuracies = train_and_evaluate(model, train_loader, val_loader, optim, epochs, model_save_path)\n"
   ]
  },
  {
   "cell_type": "code",
   "execution_count": 31,
   "id": "fc05fd9c-50c1-42f2-a54a-0457bb35191d",
   "metadata": {
    "tags": []
   },
   "outputs": [
    {
     "data": {
      "image/png": "[encoded data removed]",
      "text/plain": [
       "<Figure size 432x288 with 1 Axes>"
      ]
     },
     "metadata": {
      "needs_background": "light"
     },
     "output_type": "display_data"
    }
   ],
   "source": [
    "import matplotlib.pyplot as plt\n",
    "\n",
    "def plot_losses(train_losses, val_losses):\n",
    "    epochs = range(1, len(train_losses) + 1)\n",
    "    plt.plot(epochs, train_losses, 'bo-', label='Training Loss')\n",
    "    plt.plot(epochs, val_losses, 'ro-', label='Validation Loss')\n",
    "    plt.title('Training and Validation Loss')\n",
    "    plt.xlabel('Epochs')\n",
    "    plt.ylabel('Loss')\n",
    "    plt.legend()\n",
    "    plt.show()\n",
    "\n",
    "# Assuming train_losses and val_losses are populated from the train_and_evaluate function\n",
    "plot_losses(train_losses, val_losses)\n"
   ]
  },
  {
   "cell_type": "code",
   "execution_count": 32,
   "id": "cd3d1fb0-682a-4acf-ac62-e8be27562f27",
   "metadata": {
    "tags": []
   },
   "outputs": [
    {
     "data": {
      "image/png": "[encoded data removed]",
      "text/plain": [
       "<Figure size 432x288 with 1 Axes>"
      ]
     },
     "metadata": {
      "needs_background": "light"
     },
     "output_type": "display_data"
    },
    {
     "data": {
      "image/png": "[encoded data removed]",
      "text/plain": [
       "<Figure size 432x288 with 1 Axes>"
      ]
     },
     "metadata": {
      "needs_background": "light"
     },
     "output_type": "display_data"
    }
   ],
   "source": [
    "def plot_accuracies(train_accuracies, val_accuracies, metric_name):\n",
    "    epochs = range(1, len(train_accuracies) + 1)\n",
    "    train_scores = [score[0] if metric_name == 'EM' else score[1] for score in train_accuracies]\n",
    "    val_scores = [score[0] if metric_name == 'EM' else score[1] for score in val_accuracies]\n",
    "\n",
    "    plt.plot(epochs, train_scores, 'bo-', label=f'Training {metric_name}')\n",
    "    plt.plot(epochs, val_scores, 'ro-', label=f'Validation {metric_name}')\n",
    "    plt.title(f'Training and Validation {metric_name}')\n",
    "    plt.xlabel('Epochs')\n",
    "    plt.ylabel(metric_name)\n",
    "    plt.legend()\n",
    "    plt.show()\n",
    "\n",
    "# Assuming train_accuracies and val_accuracies are populated from the train_and_evaluate function\n",
    "plot_accuracies(train_accuracies, val_accuracies, 'EM')  # Plot for Exact Match\n",
    "plot_accuracies(train_accuracies, val_accuracies, 'F1')  # Plot for F1 Score\n"
   ]
  },
  {
   "cell_type": "code",
   "execution_count": 40,
   "id": "6506feda-6776-42f4-a3f5-d6e3e0bde4cc",
   "metadata": {
    "tags": []
   },
   "outputs": [],
   "source": [
    "# Save model to Google Drive\n",
    "torch.save(model, '/home/sa.ekbote/cai6307-parsingpandas/models/bert-base-cased')"
   ]
  },
  {
   "cell_type": "code",
   "execution_count": 35,
   "id": "697ebf02-21a9-4594-a7fe-9153609cab3c",
   "metadata": {
    "tags": []
   },
   "outputs": [
    {
     "data": {
      "text/plain": [
       "BertForQuestionAnswering(\n",
       "  (bert): BertModel(\n",
       "    (embeddings): BertEmbeddings(\n",
       "      (word_embeddings): Embedding(28996, 768, padding_idx=0)\n",
       "      (position_embeddings): Embedding(512, 768)\n",
       "      (token_type_embeddings): Embedding(2, 768)\n",
       "      (LayerNorm): LayerNorm((768,), eps=1e-12, elementwise_affine=True)\n",
       "      (dropout): Dropout(p=0.1, inplace=False)\n",
       "    )\n",
       "    (encoder): BertEncoder(\n",
       "      (layer): ModuleList(\n",
       "        (0-11): 12 x BertLayer(\n",
       "          (attention): BertAttention(\n",
       "            (self): BertSelfAttention(\n",
       "              (query): Linear(in_features=768, out_features=768, bias=True)\n",
       "              (key): Linear(in_features=768, out_features=768, bias=True)\n",
       "              (value): Linear(in_features=768, out_features=768, bias=True)\n",
       "              (dropout): Dropout(p=0.1, inplace=False)\n",
       "            )\n",
       "            (output): BertSelfOutput(\n",
       "              (dense): Linear(in_features=768, out_features=768, bias=True)\n",
       "              (LayerNorm): LayerNorm((768,), eps=1e-12, elementwise_affine=True)\n",
       "              (dropout): Dropout(p=0.1, inplace=False)\n",
       "            )\n",
       "          )\n",
       "          (intermediate): BertIntermediate(\n",
       "            (dense): Linear(in_features=768, out_features=3072, bias=True)\n",
       "            (intermediate_act_fn): GELUActivation()\n",
       "          )\n",
       "          (output): BertOutput(\n",
       "            (dense): Linear(in_features=3072, out_features=768, bias=True)\n",
       "            (LayerNorm): LayerNorm((768,), eps=1e-12, elementwise_affine=True)\n",
       "            (dropout): Dropout(p=0.1, inplace=False)\n",
       "          )\n",
       "        )\n",
       "      )\n",
       "    )\n",
       "  )\n",
       "  (qa_outputs): Linear(in_features=768, out_features=2, bias=True)\n",
       ")"
      ]
     },
     "execution_count": 35,
     "metadata": {},
     "output_type": "execute_result"
    }
   ],
   "source": [
    "bert_model2 = torch.load('/home/sa.ekbote/cai6307-parsingpandas/models/bert-base-cased',map_location=torch.device('cpu'))\n",
    "bert_model2.eval()"
   ]
  },
  {
   "cell_type": "code",
   "execution_count": 39,
   "id": "ac0c6259-de9c-4c3a-8dcc-d1aa944d103d",
   "metadata": {
    "tags": []
   },
   "outputs": [],
   "source": [
    "def predict(context,query):\n",
    "    \n",
    "    inputs = tokenizer.encode_plus(query, context, return_tensors='pt')\n",
    "    outputs = bert_model2(**inputs)\n",
    "    answer_start = torch.argmax(outputs[0])  # get the most likely beginning of answer with the argmax of the score\n",
    "    answer_end = torch.argmax(outputs[1]) + 1 \n",
    "    answer = tokenizer.convert_tokens_to_string(tokenizer.convert_ids_to_tokens(inputs['input_ids'][0][answer_start:answer_end]))\n",
    "    return answer\n",
    "\n",
    "def normalize_text(s):\n",
    "    \"\"\"Removing articles and punctuation, and standardizing whitespace are all typical text processing steps.\"\"\"\n",
    "    import string, re\n",
    "    def remove_articles(text):\n",
    "        regex = re.compile(r\"\\b(a|an|the)\\b\", re.UNICODE)\n",
    "        return re.sub(regex, \" \", text)\n",
    "    \n",
    "    def white_space_fix(text):\n",
    "        return \" \".join(text.split())\n",
    "    \n",
    "    def remove_punc(text):\n",
    "        exclude = set(string.punctuation)\n",
    "        return \"\".join(ch for ch in text if ch not in exclude)\n",
    "    \n",
    "    def lower(text):\n",
    "        return text.lower()\n",
    "    \n",
    "    return white_space_fix(remove_articles(remove_punc(lower(s))))\n",
    "\n",
    "def compute_exact_match(prediction, truth):\n",
    "    return int(normalize_text(prediction) == normalize_text(truth))\n",
    "\n",
    "def compute_f1(prediction, truth):\n",
    "    pred_tokens = normalize_text(prediction).split()\n",
    "    truth_tokens = normalize_text(truth).split()\n",
    "\n",
    "    # if either the prediction or the truth is no-answer then f1 = 1 if they agree, 0 otherwise\n",
    "    if len(pred_tokens) == 0 or len(truth_tokens) == 0:\n",
    "        return int(pred_tokens == truth_tokens)\n",
    "    \n",
    "    common_tokens = set(pred_tokens) & set(truth_tokens)\n",
    "    \n",
    "    # if there are no common tokens then f1 = 0\n",
    "    if len(common_tokens) == 0:\n",
    "        return 0\n",
    "    \n",
    "    prec = len(common_tokens) / len(pred_tokens)\n",
    "    rec = len(common_tokens) / len(truth_tokens)\n",
    "    return 2 * (prec * rec) / (prec + rec)"
   ]
  },
  {
   "cell_type": "code",
   "execution_count": 40,
   "id": "deee7620-ead2-4169-99fa-eaa1458dd673",
   "metadata": {
    "tags": []
   },
   "outputs": [],
   "source": [
    "def give_an_answer(context,query,answer):\n",
    "    prediction = predict(context,query)\n",
    "    em_score = compute_exact_match(prediction, answer)\n",
    "    f1_score = compute_f1(prediction, answer)\n",
    "    print(f\"Question: {query}\")\n",
    "    print(f\"Prediction: {prediction}\")\n",
    "    print(f\"True Answer: {answer}\")\n",
    "    print(f\"EM: {em_score}\")\n",
    "    print(f\"F1: {f1_score}\")\n",
    "    print(\"\\n\")"
   ]
  },
  {
   "cell_type": "code",
   "execution_count": 41,
   "id": "f958c9de-b2f6-48e4-97c8-897baecb88f1",
   "metadata": {
    "tags": []
   },
   "outputs": [
    {
     "name": "stdout",
     "output_type": "stream",
     "text": [
      "Question: How old is Alexa?\n",
      "Prediction: 21 years old.\n",
      "True Answer: 21\n",
      "EM: 0\n",
      "F1: 0.5\n",
      "\n",
      "\n",
      "Question: Where does Alexa live now?\n",
      "Prediction: Peristeri of Athens,\n",
      "True Answer: Kaisariani of Athens\n",
      "EM: 0\n",
      "F1: 0.6666666666666666\n",
      "\n",
      "\n",
      "Question: Where Alexa used to live?\n",
      "Prediction: Peristeri of Athens,\n",
      "True Answer: Peristeri of Athens\n",
      "EM: 1\n",
      "F1: 1.0\n",
      "\n",
      "\n"
     ]
    }
   ],
   "source": [
    "context = \"Hi! My name is Alexa and I am 21 years old. I used to live in Peristeri of Athens, but now I moved on in Kaisariani of Athens.\"\n",
    "\n",
    "queries = [\"How old is Alexa?\",\n",
    "           \"Where does Alexa live now?\",\n",
    "           \"Where Alexa used to live?\"\n",
    "          ]\n",
    "answers = [\"21\",\n",
    "           \"Kaisariani of Athens\",\n",
    "           \"Peristeri of Athens\"\n",
    "          ]\n",
    "\n",
    "for q,a in zip(queries,answers):\n",
    "    give_an_answer(context,q,a)\n"
   ]
  },
  {
   "cell_type": "code",
   "execution_count": 45,
   "id": "e877b70a-1fa3-4289-ad80-83b61229d7db",
   "metadata": {
    "tags": []
   },
   "outputs": [
    {
     "name": "stdout",
     "output_type": "stream",
     "text": [
      "Question: When did Queen found?\n",
      "Prediction: 1970.\n",
      "True Answer: 1970\n",
      "EM: 1\n",
      "F1: 1.0\n",
      "\n",
      "\n",
      "Question: Who were the basic members of Queen band?\n",
      "Prediction: Freddie Mercury\n",
      "True Answer: Freddie Mercury, Brian May, Roger Taylor and John Deacon\n",
      "EM: 0\n",
      "F1: 0.3636363636363636\n",
      "\n",
      "\n",
      "Question: What kind of band they are?\n",
      "Prediction: rock\n",
      "True Answer: rock\n",
      "EM: 1\n",
      "F1: 1.0\n",
      "\n",
      "\n"
     ]
    }
   ],
   "source": [
    "context = \"\"\" Queen are a British rock band formed in London in 1970. Their classic line-up was Freddie Mercury (lead vocals, piano), \n",
    "            Brian May (guitar, vocals), Roger Taylor (drums, vocals) and John Deacon (bass). Their earliest works were influenced \n",
    "            by progressive rock, hard rock and heavy metal, but the band gradually ventured into more conventional and radio-friendly \n",
    "            works by incorporating further styles, such as arena rock and pop rock. \"\"\"\n",
    "\n",
    "queries = [\"When did Queen found?\",\n",
    "           \"Who were the basic members of Queen band?\",\n",
    "           \"What kind of band they are?\"\n",
    "          ]\n",
    "answers = [\"1970\",\n",
    "           \"Freddie Mercury, Brian May, Roger Taylor and John Deacon\",\n",
    "           \"rock\"\n",
    "          ]\n",
    "\n",
    "for q,a in zip(queries,answers):\n",
    "    give_an_answer(context,q,a)"
   ]
  },
  {
   "cell_type": "code",
   "execution_count": 46,
   "id": "dda900d1-efd0-42aa-80c2-74a3a574d1b0",
   "metadata": {
    "tags": []
   },
   "outputs": [
    {
     "name": "stdout",
     "output_type": "stream",
     "text": [
      "Question: How many metres is Olympus?\n",
      "Prediction: 2917\n",
      "True Answer: 2917\n",
      "EM: 1\n",
      "F1: 1.0\n",
      "\n",
      "\n",
      "Question: Where Olympus is near?\n",
      "Prediction: the Gulf of Thérmai of the Aegean Sea,\n",
      "True Answer: Gulf of Thérmai of the Aegean Sea\n",
      "EM: 1\n",
      "F1: 0.8333333333333334\n",
      "\n",
      "\n",
      "Question: How far away is Olympus from Thessaloniki?\n",
      "Prediction: 80 km\n",
      "True Answer: 80 km (50 mi)\n",
      "EM: 0\n",
      "F1: 0.6666666666666666\n",
      "\n",
      "\n"
     ]
    }
   ],
   "source": [
    "context = \"\"\" Mount Olympus is the highest mountain in Greece. It is part of the Olympus massif near \n",
    "              the Gulf of Thérmai of the Aegean Sea, located in the Olympus Range on the border between \n",
    "              Thessaly and Macedonia, between the regional units of Pieria and Larissa, about 80 km (50 mi) \n",
    "              southwest from Thessaloniki. Mount Olympus has 52 peaks and deep gorges. The highest peak, \n",
    "              Mytikas, meaning \"nose\", rises to 2917 metres (9,570 ft). It is one of the \n",
    "              highest peaks in Europe in terms of topographic prominence. \"\"\"\n",
    "\n",
    "queries = [\n",
    "           \"How many metres is Olympus?\",\n",
    "           \"Where Olympus is near?\",\n",
    "           \"How far away is Olympus from Thessaloniki?\"\n",
    "          ]\n",
    "answers = [\n",
    "           \"2917\",\n",
    "           \"Gulf of Thérmai of the Aegean Sea\",\n",
    "           \"80 km (50 mi)\"\n",
    "          ]\n",
    "\n",
    "for q,a in zip(queries,answers):\n",
    "    give_an_answer(context,q,a)"
   ]
  },
  {
   "cell_type": "code",
   "execution_count": 47,
   "id": "91fcdb72-c287-4cbc-8aa6-1db5cd39ae9f",
   "metadata": {
    "tags": []
   },
   "outputs": [
    {
     "name": "stdout",
     "output_type": "stream",
     "text": [
      "Question: What is COVID-19?\n",
      "Prediction: coronavirus disease 2019\n",
      "True Answer: an ongoing pandemic of coronavirus disease 2019\n",
      "EM: 0\n",
      "F1: 0.6666666666666666\n",
      "\n",
      "\n",
      "Question: What is caused by COVID-19?\n",
      "Prediction: severe acute respiratory syndrome\n",
      "True Answer: severe acute respiratory syndrome coronavirus 2 (SARS-CoV-2)\n",
      "EM: 0\n",
      "F1: 0.7272727272727273\n",
      "\n",
      "\n",
      "Question: How many cases have been confirmed from COVID-19?\n",
      "Prediction: more than 105 million\n",
      "True Answer: more than 105 million cases\n",
      "EM: 0\n",
      "F1: 0.888888888888889\n",
      "\n",
      "\n",
      "Question: How many deaths have been confirmed from COVID-19?\n",
      "Prediction: 2. 3 million\n",
      "True Answer: more than 2.3 million deaths\n",
      "EM: 0\n",
      "F1: 0.25\n",
      "\n",
      "\n",
      "Question: How is COVID-19 spread?\n",
      "Prediction: mainly through the air\n",
      "True Answer: mainly through the air when people are near each other. It leaves an infected person as they breathe, cough, sneeze, or speak and enters another person via their mouth, nose, or eyes. It may also spread via contaminated surfaces.\n",
      "EM: 0\n",
      "F1: 0.15\n",
      "\n",
      "\n",
      "Question: How long can an infected person remain infected?\n",
      "Prediction: two weeks,\n",
      "True Answer: up to two weeks\n",
      "EM: 0\n",
      "F1: 0.6666666666666666\n",
      "\n",
      "\n",
      "Question: Can a infected person spread the virus even if they don't have symptoms?\n",
      "Prediction: Symptoms of COVID - 19 are highly variable, ranging from none to severe illness. The virus spreads mainly through the air when people are near each other. [ b ] It leaves an infected person as they breathe, cough, sneeze, or speak and enters another person via their mouth, nose, or eyes. It may also spread via contaminated surfaces. People remain infectious for up to two weeks, and can spread the virus even if they do not show symptoms.\n",
      "True Answer: yes\n",
      "EM: 0\n",
      "F1: 0\n",
      "\n",
      "\n",
      "Question: What do elephants eat?\n",
      "Prediction: The COVID - 19 pandemic,\n",
      "True Answer:  \n",
      "EM: 0\n",
      "F1: 0\n",
      "\n",
      "\n"
     ]
    }
   ],
   "source": [
    "context = \"\"\" The COVID-19 pandemic, also known as the coronavirus pandemic, is an ongoing pandemic of coronavirus disease 2019 (COVID-19) \n",
    "              caused by severe acute respiratory syndrome coronavirus 2 (SARS-CoV-2). It was first identified in December 2019 in Wuhan, China. \n",
    "              The World Health Organization declared the outbreak a Public Health Emergency of International Concern in January 2020 and a pandemic \n",
    "              in March 2020. As of 6 February 2021, more than 105 million cases have been confirmed, with more than 2.3 million deaths attributed to COVID-19.\n",
    "              Symptoms of COVID-19 are highly variable, ranging from none to severe illness. The virus spreads mainly through the air when people are \n",
    "              near each other.[b] It leaves an infected person as they breathe, cough, sneeze, or speak and enters another person via their mouth, nose, or eyes. \n",
    "              It may also spread via contaminated surfaces. People remain infectious for up to two weeks, and can spread the virus even if they do not show symptoms.[9]\"\"\"\n",
    "\n",
    "queries = [\n",
    "           \"What is COVID-19?\",\n",
    "           \"What is caused by COVID-19?\",\n",
    "           \"How many cases have been confirmed from COVID-19?\",\n",
    "           \"How many deaths have been confirmed from COVID-19?\",\n",
    "           \"How is COVID-19 spread?\",\n",
    "           \"How long can an infected person remain infected?\",\n",
    "           \"Can a infected person spread the virus even if they don't have symptoms?\",\n",
    "           \"What do elephants eat?\"\n",
    "          ]\n",
    "answers = [\n",
    "           \"an ongoing pandemic of coronavirus disease 2019\",\n",
    "           \"severe acute respiratory syndrome coronavirus 2 (SARS-CoV-2)\",\n",
    "           \"more than 105 million cases\",\n",
    "           \"more than 2.3 million deaths\",\n",
    "           \"mainly through the air when people are near each other. It leaves an infected person as they breathe, cough, sneeze, or speak and enters another person via their mouth, nose, or eyes. It may also spread via contaminated surfaces.\",\n",
    "           \"up to two weeks\",\n",
    "           \"yes\",\n",
    "           \" \"\n",
    "          ]\n",
    "\n",
    "for q,a in zip(queries,answers):\n",
    "      give_an_answer(context,q,a)"
   ]
  },
  {
   "cell_type": "code",
   "execution_count": 48,
   "id": "6372a875-ec7e-49b4-9cc9-9854fee29fa7",
   "metadata": {
    "tags": []
   },
   "outputs": [
    {
     "name": "stdout",
     "output_type": "stream",
     "text": [
      "Question: Who wrote Harry Potter's novels?\n",
      "Prediction: J. K. Rowling.\n",
      "True Answer: J. K. Rowling\n",
      "EM: 1\n",
      "F1: 1.0\n",
      "\n",
      "\n",
      "Question: Who are Harry Potter's friends?\n",
      "Prediction: Hermione Granger and Ron Weasley,\n",
      "True Answer: Hermione Granger and Ron Weasley\n",
      "EM: 1\n",
      "F1: 1.0\n",
      "\n",
      "\n",
      "Question: Who is the enemy of Harry Potter?\n",
      "Prediction: Lord Voldemort,\n",
      "True Answer: Lord Voldemort\n",
      "EM: 1\n",
      "F1: 1.0\n",
      "\n",
      "\n",
      "Question: What are Muggles?\n",
      "Prediction: non - magical people )\n",
      "True Answer: non-magical people\n",
      "EM: 0\n",
      "F1: 0.4\n",
      "\n",
      "\n",
      "Question: Which is the name of Harry Poter's first novel?\n",
      "Prediction: Harry Potter\n",
      "True Answer: Harry Potter and the Philosopher's Stone\n",
      "EM: 0\n",
      "F1: 0.5714285714285715\n",
      "\n",
      "\n",
      "Question: When did the first novel release?\n",
      "Prediction: 26 June 1997,\n",
      "True Answer: 26 June 1997\n",
      "EM: 1\n",
      "F1: 1.0\n",
      "\n",
      "\n",
      "Question: Who was attracted by Harry Potter novels?\n",
      "Prediction: Hermione Granger and Ron Weasley,\n",
      "True Answer: a wide adult audience as well as younger readers\n",
      "EM: 0\n",
      "F1: 0\n",
      "\n",
      "\n",
      "Question: How many languages Harry Potter has been translated into? \n",
      "Prediction: eighty\n",
      "True Answer: eighty\n",
      "EM: 1\n",
      "F1: 1.0\n",
      "\n",
      "\n"
     ]
    }
   ],
   "source": [
    "context = \"\"\" Harry Potter is a series of seven fantasy novels written by British author, J. K. Rowling. The novels chronicle the lives of a young wizard, \n",
    "              Harry Potter, and his friends Hermione Granger and Ron Weasley, all of whom are students at Hogwarts School of Witchcraft and Wizardry. \n",
    "              The main story arc concerns Harry's struggle against Lord Voldemort, a dark wizard who intends to become immortal, overthrow the wizard \n",
    "              governing body known as the Ministry of Magic and subjugate all wizards and Muggles (non-magical people). Since the release of the first novel, \n",
    "              Harry Potter and the Philosopher's Stone, on 26 June 1997, the books have found immense popularity, positive reviews, and commercial success worldwide. \n",
    "              They have attracted a wide adult audience as well as younger readers and are often considered cornerstones of modern young adult literature.[2] \n",
    "              As of February 2018, the books have sold more than 500 million copies worldwide, making them the best-selling book series in history, and have been translated \n",
    "              into eighty languages.[3] The last four books consecutively set records as the fastest-selling books in history, with the final installment selling roughly \n",
    "              eleven million copies in the United States within twenty-four hours of its release.  \"\"\"\n",
    "\n",
    "queries = [\n",
    "           \"Who wrote Harry Potter's novels?\",\n",
    "           \"Who are Harry Potter's friends?\",\n",
    "           \"Who is the enemy of Harry Potter?\",\n",
    "           \"What are Muggles?\",\n",
    "           \"Which is the name of Harry Poter's first novel?\",\n",
    "           \"When did the first novel release?\",\n",
    "           \"Who was attracted by Harry Potter novels?\",\n",
    "           \"How many languages Harry Potter has been translated into? \"\n",
    "          ]\n",
    "answers = [\n",
    "           \"J. K. Rowling\",\n",
    "           \"Hermione Granger and Ron Weasley\",\n",
    "           \"Lord Voldemort\",\n",
    "           \"non-magical people\",\n",
    "           \"Harry Potter and the Philosopher's Stone\",\n",
    "           \"26 June 1997\",\n",
    "           \"a wide adult audience as well as younger readers\",\n",
    "           \"eighty\"\n",
    "          ]\n",
    "\n",
    "for q,a in zip(queries,answers):\n",
    "      give_an_answer(context,q,a)"
   ]
  },
  {
   "cell_type": "code",
   "execution_count": 50,
   "id": "2baa3c83-443f-402d-a24b-72c050dc5166",
   "metadata": {
    "tags": []
   },
   "outputs": [
    {
     "name": "stderr",
     "output_type": "stream",
     "text": [
      "huggingface/tokenizers: The current process just got forked, after parallelism has already been used. Disabling parallelism to avoid deadlocks...\n",
      "To disable this warning, you can either:\n",
      "\t- Avoid using `tokenizers` before the fork if possible\n",
      "\t- Explicitly set the environment variable TOKENIZERS_PARALLELISM=(true | false)\n"
     ]
    },
    {
     "name": "stdout",
     "output_type": "stream",
     "text": [
      "Defaulting to user installation because normal site-packages is not writeable\n",
      "\u001b[33mWARNING: Ignoring invalid distribution -ensorflow (/apps/python/3.10/lib/python3.10/site-packages)\u001b[0m\u001b[33m\n",
      "\u001b[0m\u001b[33mWARNING: Ignoring invalid distribution -idgetsnbextension (/apps/python/3.10/lib/python3.10/site-packages)\u001b[0m\u001b[33m\n",
      "\u001b[0m\u001b[33mWARNING: Ignoring invalid distribution -qdm (/apps/python/3.10/lib/python3.10/site-packages)\u001b[0m\u001b[33m\n",
      "\u001b[0m\u001b[33mWARNING: Ignoring invalid distribution -ryptography (/apps/python/3.10/lib/python3.10/site-packages)\u001b[0m\u001b[33m\n",
      "\u001b[0m\u001b[33mWARNING: Ignoring invalid distribution -yopenssl (/apps/python/3.10/lib/python3.10/site-packages)\u001b[0m\u001b[33m\n",
      "\u001b[0mCollecting optuna\n",
      "  Downloading optuna-3.6.1-py3-none-any.whl.metadata (17 kB)\n",
      "Collecting alembic>=1.5.0 (from optuna)\n",
      "  Downloading alembic-1.13.1-py3-none-any.whl.metadata (7.4 kB)\n",
      "Requirement already satisfied: colorlog in /apps/python/3.10/lib/python3.10/site-packages (from optuna) (6.6.0)\n",
      "Requirement already satisfied: numpy in /apps/python/3.10/lib/python3.10/site-packages (from optuna) (1.26.2)\n",
      "Requirement already satisfied: packaging>=20.0 in /apps/python/3.10/lib/python3.10/site-packages (from optuna) (21.3)\n",
      "Requirement already satisfied: sqlalchemy>=1.3.0 in /apps/python/3.10/lib/python3.10/site-packages (from optuna) (1.3.24)\n",
      "Requirement already satisfied: tqdm in /apps/python/3.10/lib/python3.10/site-packages (from optuna) (4.66.2)\n",
      "Requirement already satisfied: PyYAML in /apps/python/3.10/lib/python3.10/site-packages (from optuna) (6.0.1)\n",
      "Requirement already satisfied: Mako in /apps/python/3.10/lib/python3.10/site-packages (from alembic>=1.5.0->optuna) (1.2.1)\n",
      "Requirement already satisfied: typing-extensions>=4 in /apps/python/3.10/lib/python3.10/site-packages (from alembic>=1.5.0->optuna) (4.8.0)\n",
      "Requirement already satisfied: pyparsing!=3.0.5,>=2.0.2 in /apps/python/3.10/lib/python3.10/site-packages (from packaging>=20.0->optuna) (2.4.7)\n",
      "Requirement already satisfied: MarkupSafe>=0.9.2 in /apps/python/3.10/lib/python3.10/site-packages (from Mako->alembic>=1.5.0->optuna) (2.1.3)\n",
      "Downloading optuna-3.6.1-py3-none-any.whl (380 kB)\n",
      "\u001b[2K   \u001b[90m━━━━━━━━━━━━━━━━━━━━━━━━━━━━━━━━━━━━━━━━\u001b[0m \u001b[32m380.1/380.1 kB\u001b[0m \u001b[31m7.0 MB/s\u001b[0m eta \u001b[36m0:00:00\u001b[0m:00:01\u001b[0m\n",
      "\u001b[?25hDownloading alembic-1.13.1-py3-none-any.whl (233 kB)\n",
      "\u001b[2K   \u001b[90m━━━━━━━━━━━━━━━━━━━━━━━━━━━━━━━━━━━━━━━━\u001b[0m \u001b[32m233.4/233.4 kB\u001b[0m \u001b[31m9.1 MB/s\u001b[0m eta \u001b[36m0:00:00\u001b[0m\n",
      "\u001b[?25h\u001b[33mWARNING: Ignoring invalid distribution -ensorflow (/apps/python/3.10/lib/python3.10/site-packages)\u001b[0m\u001b[33m\n",
      "\u001b[0m\u001b[33mWARNING: Ignoring invalid distribution -idgetsnbextension (/apps/python/3.10/lib/python3.10/site-packages)\u001b[0m\u001b[33m\n",
      "\u001b[0m\u001b[33mWARNING: Ignoring invalid distribution -qdm (/apps/python/3.10/lib/python3.10/site-packages)\u001b[0m\u001b[33m\n",
      "\u001b[0m\u001b[33mWARNING: Ignoring invalid distribution -ryptography (/apps/python/3.10/lib/python3.10/site-packages)\u001b[0m\u001b[33m\n",
      "\u001b[0m\u001b[33mWARNING: Ignoring invalid distribution -yopenssl (/apps/python/3.10/lib/python3.10/site-packages)\u001b[0m\u001b[33m\n",
      "\u001b[0m\u001b[33mDEPRECATION: autogenes 1.0.4 has a non-standard dependency specifier matplotlib>=3.0.*. pip 24.0 will enforce this behaviour change. A possible replacement is to upgrade to a newer version of autogenes or contact the author to suggest that they release a version with a conforming dependency specifiers. Discussion can be found at https://github.com/pypa/pip/issues/12063\u001b[0m\u001b[33m\n",
      "\u001b[0m\u001b[33mDEPRECATION: textract 1.6.5 has a non-standard dependency specifier extract-msg<=0.29.*. pip 24.0 will enforce this behaviour change. A possible replacement is to upgrade to a newer version of textract or contact the author to suggest that they release a version with a conforming dependency specifiers. Discussion can be found at https://github.com/pypa/pip/issues/12063\u001b[0m\u001b[33m\n",
      "\u001b[0mInstalling collected packages: alembic, optuna\n",
      "Successfully installed alembic-1.13.1 optuna-3.6.1\n"
     ]
    }
   ],
   "source": [
    "!pip install optuna"
   ]
  },
  {
   "cell_type": "code",
   "execution_count": 46,
   "id": "6a68aeff-3eef-4597-bbf5-32f9b2615fb5",
   "metadata": {
    "tags": []
   },
   "outputs": [
    {
     "name": "stderr",
     "output_type": "stream",
     "text": [
      "[I 2024-04-05 16:45:24,268] A new study created in memory with name: no-name-64470793-1358-46de-b310-d6e14beabd15\n",
      "Some weights of BertForQuestionAnswering were not initialized from the model checkpoint at bert-base-cased and are newly initialized: ['qa_outputs.bias', 'qa_outputs.weight']\n",
      "You should probably TRAIN this model on a down-stream task to be able to use it for predictions and inference.\n"
     ]
    },
    {
     "name": "stdout",
     "output_type": "stream",
     "text": [
      "Train Epoch: 1 [1000/10853]\tLoss: 1.246460\tExact Match: 0.3430\tF1: 0.4652\n",
      "Train Epoch: 1 [2000/10853]\tLoss: 1.476093\tExact Match: 0.4181\tF1: 0.5513\n",
      "Train Epoch: 1 [3000/10853]\tLoss: 1.423202\tExact Match: 0.4567\tF1: 0.5917\n",
      "Train Epoch: 1 [4000/10853]\tLoss: 1.414765\tExact Match: 0.4769\tF1: 0.6139\n",
      "Train Epoch: 1 [5000/10853]\tLoss: 1.793976\tExact Match: 0.4904\tF1: 0.6285\n",
      "Train Epoch: 1 [6000/10853]\tLoss: 0.584310\tExact Match: 0.5029\tF1: 0.6412\n",
      "Train Epoch: 1 [7000/10853]\tLoss: 1.085196\tExact Match: 0.5120\tF1: 0.6505\n",
      "Train Epoch: 1 [8000/10853]\tLoss: 1.141405\tExact Match: 0.5197\tF1: 0.6579\n",
      "Train Epoch: 1 [9000/10853]\tLoss: 1.347730\tExact Match: 0.5260\tF1: 0.6645\n",
      "Train Epoch: 1 [10000/10853]\tLoss: 2.219108\tExact Match: 0.5319\tF1: 0.6703\n",
      "Val Epoch: 1 [1000/2538]\tLoss: 0.942244\tExact Match: 0.5823\tF1: 0.7244\n",
      "Val Epoch: 1 [2000/2538]\tLoss: 1.180310\tExact Match: 0.5876\tF1: 0.7297\n",
      "Epoch 1/3:\n",
      "Train Loss: 1.3722, Train Exact Match: 0.5357, Train F1: 0.6743\n",
      "Val Loss: 1.2124, Val Exact Match: 0.5859, Val F1: 0.7284\n",
      "Train Epoch: 2 [1000/10853]\tLoss: 0.307559\tExact Match: 0.6670\tF1: 0.7933\n",
      "Train Epoch: 2 [2000/10853]\tLoss: 0.823198\tExact Match: 0.6634\tF1: 0.7899\n",
      "Train Epoch: 2 [3000/10853]\tLoss: 2.038009\tExact Match: 0.6596\tF1: 0.7865\n",
      "Train Epoch: 2 [4000/10853]\tLoss: 0.702670\tExact Match: 0.6535\tF1: 0.7827\n",
      "Train Epoch: 2 [5000/10853]\tLoss: 2.277924\tExact Match: 0.6494\tF1: 0.7793\n",
      "Train Epoch: 2 [6000/10853]\tLoss: 1.717873\tExact Match: 0.6482\tF1: 0.7785\n",
      "Train Epoch: 2 [7000/10853]\tLoss: 1.024019\tExact Match: 0.6475\tF1: 0.7776\n",
      "Train Epoch: 2 [8000/10853]\tLoss: 2.241327\tExact Match: 0.6473\tF1: 0.7782\n",
      "Train Epoch: 2 [9000/10853]\tLoss: 1.121873\tExact Match: 0.6459\tF1: 0.7766\n",
      "Train Epoch: 2 [10000/10853]\tLoss: 2.941319\tExact Match: 0.6450\tF1: 0.7762\n",
      "Val Epoch: 2 [1000/2538]\tLoss: 1.818653\tExact Match: 0.6035\tF1: 0.7476\n",
      "Val Epoch: 2 [2000/2538]\tLoss: 0.820893\tExact Match: 0.5984\tF1: 0.7403\n",
      "Epoch 2/3:\n",
      "Train Loss: 0.9643, Train Exact Match: 0.6439, Train F1: 0.7758\n",
      "Val Loss: 1.2701, Val Exact Match: 0.5959, Val F1: 0.7393\n",
      "Train Epoch: 3 [1000/10853]\tLoss: 0.532433\tExact Match: 0.7130\tF1: 0.8337\n",
      "Train Epoch: 3 [2000/10853]\tLoss: 0.254153\tExact Match: 0.7041\tF1: 0.8264\n",
      "Train Epoch: 3 [3000/10853]\tLoss: 0.705674\tExact Match: 0.7043\tF1: 0.8265\n",
      "Train Epoch: 3 [4000/10853]\tLoss: 0.616520\tExact Match: 0.7014\tF1: 0.8245\n",
      "Train Epoch: 3 [5000/10853]\tLoss: 1.379412\tExact Match: 0.7002\tF1: 0.8219\n",
      "Train Epoch: 3 [6000/10853]\tLoss: 0.654078\tExact Match: 0.6986\tF1: 0.8209\n",
      "Train Epoch: 3 [7000/10853]\tLoss: 0.552443\tExact Match: 0.6985\tF1: 0.8209\n",
      "Train Epoch: 3 [8000/10853]\tLoss: 1.344168\tExact Match: 0.6969\tF1: 0.8199\n",
      "Train Epoch: 3 [9000/10853]\tLoss: 0.867638\tExact Match: 0.6954\tF1: 0.8184\n",
      "Train Epoch: 3 [10000/10853]\tLoss: 1.006831\tExact Match: 0.6928\tF1: 0.8164\n",
      "Val Epoch: 3 [1000/2538]\tLoss: 1.054220\tExact Match: 0.5851\tF1: 0.7349\n",
      "Val Epoch: 3 [2000/2538]\tLoss: 1.259261\tExact Match: 0.5885\tF1: 0.7379\n",
      "Epoch 3/3:\n",
      "Train Loss: 0.7884, Train Exact Match: 0.6913, Train F1: 0.8153\n",
      "Val Loss: 1.2344, Val Exact Match: 0.5902, Val F1: 0.7392\n"
     ]
    },
    {
     "name": "stderr",
     "output_type": "stream",
     "text": [
      "[I 2024-04-05 17:21:48,874] Trial 0 finished with value: 0.7356135293883699 and parameters: {'num_attention_heads': 12}. Best is trial 0 with value: 0.7356135293883699.\n",
      "Some weights of BertForQuestionAnswering were not initialized from the model checkpoint at bert-base-cased and are newly initialized: ['qa_outputs.bias', 'qa_outputs.weight']\n",
      "You should probably TRAIN this model on a down-stream task to be able to use it for predictions and inference.\n"
     ]
    },
    {
     "name": "stdout",
     "output_type": "stream",
     "text": [
      "Train Epoch: 1 [1000/10853]\tLoss: 3.968628\tExact Match: 0.0205\tF1: 0.0627\n",
      "Train Epoch: 1 [2000/10853]\tLoss: 3.304688\tExact Match: 0.0279\tF1: 0.0702\n",
      "Train Epoch: 1 [3000/10853]\tLoss: 3.548706\tExact Match: 0.0417\tF1: 0.0876\n",
      "Train Epoch: 1 [4000/10853]\tLoss: 3.689636\tExact Match: 0.0525\tF1: 0.1014\n",
      "Train Epoch: 1 [5000/10853]\tLoss: 3.615112\tExact Match: 0.0636\tF1: 0.1153\n",
      "Train Epoch: 1 [6000/10853]\tLoss: 3.655334\tExact Match: 0.0752\tF1: 0.1300\n",
      "Train Epoch: 1 [7000/10853]\tLoss: 4.132950\tExact Match: 0.0893\tF1: 0.1482\n",
      "Train Epoch: 1 [8000/10853]\tLoss: 2.382309\tExact Match: 0.1082\tF1: 0.1726\n",
      "Train Epoch: 1 [9000/10853]\tLoss: 1.703566\tExact Match: 0.1307\tF1: 0.2016\n",
      "Train Epoch: 1 [10000/10853]\tLoss: 2.493933\tExact Match: 0.1528\tF1: 0.2293\n",
      "Val Epoch: 1 [1000/2538]\tLoss: 2.105357\tExact Match: 0.4280\tF1: 0.5638\n",
      "Val Epoch: 1 [2000/2538]\tLoss: 1.974812\tExact Match: 0.4311\tF1: 0.5682\n",
      "Epoch 1/3:\n",
      "Train Loss: 2.8541, Train Exact Match: 0.1709, Train F1: 0.2517\n",
      "Val Loss: 1.7413, Val Exact Match: 0.4328, Val F1: 0.5695\n",
      "Train Epoch: 2 [1000/10853]\tLoss: 1.855667\tExact Match: 0.4365\tF1: 0.5643\n",
      "Train Epoch: 2 [2000/10853]\tLoss: 1.203987\tExact Match: 0.4442\tF1: 0.5720\n",
      "Train Epoch: 2 [3000/10853]\tLoss: 1.001253\tExact Match: 0.4492\tF1: 0.5789\n",
      "Train Epoch: 2 [4000/10853]\tLoss: 0.879528\tExact Match: 0.4513\tF1: 0.5819\n",
      "Train Epoch: 2 [5000/10853]\tLoss: 1.929977\tExact Match: 0.4546\tF1: 0.5864\n",
      "Train Epoch: 2 [6000/10853]\tLoss: 0.482206\tExact Match: 0.4564\tF1: 0.5881\n",
      "Train Epoch: 2 [7000/10853]\tLoss: 1.791981\tExact Match: 0.4601\tF1: 0.5914\n",
      "Train Epoch: 2 [8000/10853]\tLoss: 1.305593\tExact Match: 0.4616\tF1: 0.5935\n",
      "Train Epoch: 2 [9000/10853]\tLoss: 1.739060\tExact Match: 0.4637\tF1: 0.5959\n",
      "Train Epoch: 2 [10000/10853]\tLoss: 1.691767\tExact Match: 0.4667\tF1: 0.5993\n",
      "Val Epoch: 2 [1000/2538]\tLoss: 1.666115\tExact Match: 0.4838\tF1: 0.6209\n",
      "Val Epoch: 2 [2000/2538]\tLoss: 0.546647\tExact Match: 0.4844\tF1: 0.6223\n",
      "Epoch 2/3:\n",
      "Train Loss: 1.5512, Train Exact Match: 0.4691, Train F1: 0.6013\n",
      "Val Loss: 1.5700, Val Exact Match: 0.4848, Val F1: 0.6225\n",
      "Train Epoch: 3 [1000/10853]\tLoss: 1.796066\tExact Match: 0.5720\tF1: 0.7038\n",
      "Train Epoch: 3 [2000/10853]\tLoss: 1.278731\tExact Match: 0.5709\tF1: 0.7028\n",
      "Train Epoch: 3 [3000/10853]\tLoss: 2.366962\tExact Match: 0.5703\tF1: 0.7013\n",
      "Train Epoch: 3 [4000/10853]\tLoss: 1.677452\tExact Match: 0.5678\tF1: 0.6991\n",
      "Train Epoch: 3 [5000/10853]\tLoss: 1.192603\tExact Match: 0.5665\tF1: 0.6977\n",
      "Train Epoch: 3 [6000/10853]\tLoss: 2.664213\tExact Match: 0.5671\tF1: 0.6978\n",
      "Train Epoch: 3 [7000/10853]\tLoss: 0.783880\tExact Match: 0.5661\tF1: 0.6975\n",
      "Train Epoch: 3 [8000/10853]\tLoss: 1.090633\tExact Match: 0.5648\tF1: 0.6960\n",
      "Train Epoch: 3 [9000/10853]\tLoss: 0.812519\tExact Match: 0.5642\tF1: 0.6959\n",
      "Train Epoch: 3 [10000/10853]\tLoss: 1.039115\tExact Match: 0.5627\tF1: 0.6946\n",
      "Val Epoch: 3 [1000/2538]\tLoss: 0.717288\tExact Match: 0.5048\tF1: 0.6532\n",
      "Val Epoch: 3 [2000/2538]\tLoss: 2.611794\tExact Match: 0.5058\tF1: 0.6540\n",
      "Epoch 3/3:\n",
      "Train Loss: 1.2031, Train Exact Match: 0.5613, Train F1: 0.6938\n",
      "Val Loss: 1.5370, Val Exact Match: 0.5033, Val F1: 0.6513\n"
     ]
    },
    {
     "name": "stderr",
     "output_type": "stream",
     "text": [
      "[I 2024-04-05 17:50:58,409] Trial 1 finished with value: 0.6144521919753582 and parameters: {'num_attention_heads': 4}. Best is trial 0 with value: 0.7356135293883699.\n",
      "Some weights of BertForQuestionAnswering were not initialized from the model checkpoint at bert-base-cased and are newly initialized: ['qa_outputs.bias', 'qa_outputs.weight']\n",
      "You should probably TRAIN this model on a down-stream task to be able to use it for predictions and inference.\n"
     ]
    },
    {
     "name": "stdout",
     "output_type": "stream",
     "text": [
      "Train Epoch: 1 [1000/10853]\tLoss: 2.294487\tExact Match: 0.1199\tF1: 0.1911\n",
      "Train Epoch: 1 [2000/10853]\tLoss: 1.736404\tExact Match: 0.2360\tF1: 0.3371\n",
      "Train Epoch: 1 [3000/10853]\tLoss: 1.536915\tExact Match: 0.2967\tF1: 0.4091\n",
      "Train Epoch: 1 [4000/10853]\tLoss: 1.363695\tExact Match: 0.3342\tF1: 0.4519\n",
      "Train Epoch: 1 [5000/10853]\tLoss: 1.873098\tExact Match: 0.3624\tF1: 0.4844\n",
      "Train Epoch: 1 [6000/10853]\tLoss: 1.392168\tExact Match: 0.3812\tF1: 0.5073\n",
      "Train Epoch: 1 [7000/10853]\tLoss: 1.290132\tExact Match: 0.3975\tF1: 0.5259\n",
      "Train Epoch: 1 [8000/10853]\tLoss: 0.966064\tExact Match: 0.4111\tF1: 0.5413\n",
      "Train Epoch: 1 [9000/10853]\tLoss: 1.219522\tExact Match: 0.4227\tF1: 0.5537\n",
      "Train Epoch: 1 [10000/10853]\tLoss: 2.329051\tExact Match: 0.4340\tF1: 0.5653\n",
      "Val Epoch: 1 [1000/2538]\tLoss: 0.844888\tExact Match: 0.5331\tF1: 0.6815\n",
      "Val Epoch: 1 [2000/2538]\tLoss: 1.799387\tExact Match: 0.5350\tF1: 0.6810\n",
      "Epoch 1/3:\n",
      "Train Loss: 1.7170, Train Exact Match: 0.4407, Train F1: 0.5728\n",
      "Val Loss: 1.3889, Val Exact Match: 0.5306, Val F1: 0.6778\n",
      "Train Epoch: 2 [1000/10853]\tLoss: 1.805995\tExact Match: 0.5840\tF1: 0.7208\n",
      "Train Epoch: 2 [2000/10853]\tLoss: 1.746630\tExact Match: 0.5894\tF1: 0.7237\n",
      "Train Epoch: 2 [3000/10853]\tLoss: 1.059997\tExact Match: 0.5895\tF1: 0.7244\n",
      "Train Epoch: 2 [4000/10853]\tLoss: 0.623534\tExact Match: 0.5901\tF1: 0.7256\n",
      "Train Epoch: 2 [5000/10853]\tLoss: 0.944361\tExact Match: 0.5886\tF1: 0.7250\n",
      "Train Epoch: 2 [6000/10853]\tLoss: 1.511268\tExact Match: 0.5881\tF1: 0.7247\n",
      "Train Epoch: 2 [7000/10853]\tLoss: 1.337231\tExact Match: 0.5869\tF1: 0.7239\n",
      "Train Epoch: 2 [8000/10853]\tLoss: 1.628453\tExact Match: 0.5867\tF1: 0.7235\n",
      "Train Epoch: 2 [9000/10853]\tLoss: 2.021297\tExact Match: 0.5860\tF1: 0.7229\n",
      "Train Epoch: 2 [10000/10853]\tLoss: 0.737057\tExact Match: 0.5860\tF1: 0.7228\n",
      "Val Epoch: 2 [1000/2538]\tLoss: 1.107697\tExact Match: 0.5407\tF1: 0.6989\n",
      "Val Epoch: 2 [2000/2538]\tLoss: 1.224982\tExact Match: 0.5462\tF1: 0.6991\n",
      "Epoch 2/3:\n",
      "Train Loss: 1.1413, Train Exact Match: 0.5861, Train F1: 0.7227\n",
      "Val Loss: 1.3466, Val Exact Match: 0.5468, Val F1: 0.6991\n",
      "Train Epoch: 3 [1000/10853]\tLoss: 1.339966\tExact Match: 0.6755\tF1: 0.7976\n",
      "Train Epoch: 3 [2000/10853]\tLoss: 0.106183\tExact Match: 0.6721\tF1: 0.7943\n",
      "Train Epoch: 3 [3000/10853]\tLoss: 0.826596\tExact Match: 0.6669\tF1: 0.7915\n",
      "Train Epoch: 3 [4000/10853]\tLoss: 0.837422\tExact Match: 0.6615\tF1: 0.7883\n",
      "Train Epoch: 3 [5000/10853]\tLoss: 0.376365\tExact Match: 0.6595\tF1: 0.7863\n",
      "Train Epoch: 3 [6000/10853]\tLoss: 0.875881\tExact Match: 0.6576\tF1: 0.7848\n",
      "Train Epoch: 3 [7000/10853]\tLoss: 1.225258\tExact Match: 0.6567\tF1: 0.7833\n",
      "Train Epoch: 3 [8000/10853]\tLoss: 2.284849\tExact Match: 0.6538\tF1: 0.7812\n",
      "Train Epoch: 3 [9000/10853]\tLoss: 0.770874\tExact Match: 0.6524\tF1: 0.7800\n",
      "Train Epoch: 3 [10000/10853]\tLoss: 0.616253\tExact Match: 0.6512\tF1: 0.7792\n",
      "Val Epoch: 3 [1000/2538]\tLoss: 2.528728\tExact Match: 0.5489\tF1: 0.6943\n",
      "Val Epoch: 3 [2000/2538]\tLoss: 2.136066\tExact Match: 0.5463\tF1: 0.6938\n",
      "Epoch 3/3:\n",
      "Train Loss: 0.9179, Train Exact Match: 0.6504, Train F1: 0.7787\n",
      "Val Loss: 1.3947, Val Exact Match: 0.5465, Val F1: 0.6957\n"
     ]
    },
    {
     "name": "stderr",
     "output_type": "stream",
     "text": [
      "[I 2024-04-05 18:23:43,904] Trial 2 finished with value: 0.6908553113090726 and parameters: {'num_attention_heads': 8}. Best is trial 0 with value: 0.7356135293883699.\n"
     ]
    },
    {
     "name": "stdout",
     "output_type": "stream",
     "text": [
      "Best number of attention heads: 12\n",
      "Best F1 score: 0.7356135293883699\n"
     ]
    }
   ],
   "source": [
    "import optuna\n",
    "from transformers import BertConfig, BertForQuestionAnswering\n",
    "\n",
    "def objective(trial):\n",
    "    # Define the search space for the number of attention heads\n",
    "    num_attention_heads = trial.suggest_categorical('num_attention_heads', [4, 8, 12, 16])\n",
    "\n",
    "    # Load the pre-trained BERT model with the specified number of attention heads\n",
    "    config = BertConfig.from_pretrained('bert-base-cased', num_attention_heads=num_attention_heads,  hidden_size=768)\n",
    "    model = BertForQuestionAnswering.from_pretrained('bert-base-cased', config=config).to(device)\n",
    "    \n",
    "    from transformers import AdamW\n",
    "    optim = AdamW(model.parameters(), lr=5e-5)\n",
    "    model_save_path= '/home/sa.ekbote/cai6307-parsingpandas/num-heads/'\n",
    "\n",
    "    epochs = 3\n",
    "    # Train and evaluate the model (you can use your existing train_and_evaluate function)\n",
    "    train_losses, train_accuracies, val_losses, val_accuracies =  train_and_evaluate(model, train_loader, val_loader, optim, epochs, model_save_path)\n",
    "\n",
    "\n",
    "    # Return the objective value (e.g., the average of the last few validation F1 scores)\n",
    "    return sum([f1 for _, f1 in val_accuracies[-3:]]) / 3 # Average of the last 3 epochs' F1 scores\n",
    "\n",
    "study = optuna.create_study(direction='maximize')\n",
    "study.optimize(objective, n_trials=3)  # Adjust the number of trials as needed\n",
    "\n",
    "print(f\"Best number of attention heads: {study.best_params['num_attention_heads']}\")\n",
    "print(f\"Best F1 score: {study.best_value}\")\n"
   ]
  },
  {
   "cell_type": "code",
   "execution_count": 51,
   "id": "fd148474-65b4-489c-bebc-e764439ce4de",
   "metadata": {},
   "outputs": [
    {
     "name": "stderr",
     "output_type": "stream",
     "text": [
      "[I 2024-04-05 19:37:04,295] A new study created in memory with name: no-name-7ee526bc-21d7-4b60-88d1-080cd0b07944\n",
      "Some weights of BertForQuestionAnswering were not initialized from the model checkpoint at bert-base-cased and are newly initialized: ['qa_outputs.bias', 'qa_outputs.weight']\n",
      "You should probably TRAIN this model on a down-stream task to be able to use it for predictions and inference.\n"
     ]
    },
    {
     "name": "stdout",
     "output_type": "stream",
     "text": [
      "Train Epoch: 1 [1000/10853]\tLoss: 1.999041\tExact Match: 0.2218\tF1: 0.3260\n",
      "Train Epoch: 1 [2000/10853]\tLoss: 1.864395\tExact Match: 0.3291\tF1: 0.4511\n",
      "Train Epoch: 1 [3000/10853]\tLoss: 1.904250\tExact Match: 0.3791\tF1: 0.5083\n",
      "Train Epoch: 1 [4000/10853]\tLoss: 1.082192\tExact Match: 0.4103\tF1: 0.5423\n",
      "Train Epoch: 1 [5000/10853]\tLoss: 1.356650\tExact Match: 0.4302\tF1: 0.5645\n",
      "Train Epoch: 1 [6000/10853]\tLoss: 1.188713\tExact Match: 0.4463\tF1: 0.5817\n",
      "Train Epoch: 1 [7000/10853]\tLoss: 2.124821\tExact Match: 0.4588\tF1: 0.5945\n",
      "Train Epoch: 1 [8000/10853]\tLoss: 0.816792\tExact Match: 0.4690\tF1: 0.6053\n",
      "Train Epoch: 1 [9000/10853]\tLoss: 2.339082\tExact Match: 0.4776\tF1: 0.6150\n",
      "Train Epoch: 1 [10000/10853]\tLoss: 1.866608\tExact Match: 0.4841\tF1: 0.6222\n",
      "Val Epoch: 1 [1000/2538]\tLoss: 2.622502\tExact Match: 0.5605\tF1: 0.7078\n",
      "Val Epoch: 1 [2000/2538]\tLoss: 0.884231\tExact Match: 0.5634\tF1: 0.7099\n",
      "Epoch 1/3:\n",
      "Train Loss: 1.5306, Train Exact Match: 0.4895, Train F1: 0.6280\n",
      "Val Loss: 1.2922, Val Exact Match: 0.5630, Val F1: 0.7099\n",
      "Train Epoch: 2 [1000/10853]\tLoss: 1.070126\tExact Match: 0.6425\tF1: 0.7734\n",
      "Train Epoch: 2 [2000/10853]\tLoss: 0.874874\tExact Match: 0.6388\tF1: 0.7693\n",
      "Train Epoch: 2 [3000/10853]\tLoss: 1.047264\tExact Match: 0.6396\tF1: 0.7692\n",
      "Train Epoch: 2 [4000/10853]\tLoss: 0.983492\tExact Match: 0.6382\tF1: 0.7686\n",
      "Train Epoch: 2 [5000/10853]\tLoss: 1.433523\tExact Match: 0.6358\tF1: 0.7670\n",
      "Train Epoch: 2 [6000/10853]\tLoss: 0.630567\tExact Match: 0.6336\tF1: 0.7653\n",
      "Train Epoch: 2 [7000/10853]\tLoss: 0.838791\tExact Match: 0.6328\tF1: 0.7649\n",
      "Train Epoch: 2 [8000/10853]\tLoss: 0.365131\tExact Match: 0.6319\tF1: 0.7639\n",
      "Train Epoch: 2 [9000/10853]\tLoss: 1.426920\tExact Match: 0.6302\tF1: 0.7628\n",
      "Train Epoch: 2 [10000/10853]\tLoss: 1.117319\tExact Match: 0.6289\tF1: 0.7623\n",
      "Val Epoch: 2 [1000/2538]\tLoss: 1.588818\tExact Match: 0.5737\tF1: 0.7166\n",
      "Val Epoch: 2 [2000/2538]\tLoss: 1.856476\tExact Match: 0.5740\tF1: 0.7172\n",
      "Epoch 2/3:\n",
      "Train Loss: 1.0123, Train Exact Match: 0.6288, Train F1: 0.7622\n",
      "Val Loss: 1.2803, Val Exact Match: 0.5713, Val F1: 0.7161\n",
      "Train Epoch: 3 [1000/10853]\tLoss: 0.598933\tExact Match: 0.7219\tF1: 0.8346\n",
      "Train Epoch: 3 [2000/10853]\tLoss: 1.111576\tExact Match: 0.7085\tF1: 0.8250\n",
      "Train Epoch: 3 [3000/10853]\tLoss: 0.505217\tExact Match: 0.7021\tF1: 0.8210\n",
      "Train Epoch: 3 [4000/10853]\tLoss: 0.793862\tExact Match: 0.6989\tF1: 0.8189\n",
      "Train Epoch: 3 [5000/10853]\tLoss: 0.762871\tExact Match: 0.6973\tF1: 0.8181\n",
      "Train Epoch: 3 [6000/10853]\tLoss: 0.674130\tExact Match: 0.6960\tF1: 0.8165\n",
      "Train Epoch: 3 [7000/10853]\tLoss: 0.320991\tExact Match: 0.6942\tF1: 0.8154\n",
      "Train Epoch: 3 [8000/10853]\tLoss: 1.723526\tExact Match: 0.6942\tF1: 0.8157\n",
      "Train Epoch: 3 [9000/10853]\tLoss: 0.621790\tExact Match: 0.6920\tF1: 0.8141\n",
      "Train Epoch: 3 [10000/10853]\tLoss: 1.312094\tExact Match: 0.6896\tF1: 0.8127\n",
      "Val Epoch: 3 [1000/2538]\tLoss: 0.729730\tExact Match: 0.5705\tF1: 0.7200\n",
      "Val Epoch: 3 [2000/2538]\tLoss: 1.566704\tExact Match: 0.5722\tF1: 0.7203\n",
      "Epoch 3/3:\n",
      "Train Loss: 0.8003, Train Exact Match: 0.6889, Train F1: 0.8122\n",
      "Val Loss: 1.3705, Val Exact Match: 0.5707, Val F1: 0.7194\n"
     ]
    },
    {
     "name": "stderr",
     "output_type": "stream",
     "text": [
      "[I 2024-04-05 20:24:51,561] Trial 0 finished with value: 0.7151476955284962 and parameters: {'num_attention_heads': 24}. Best is trial 0 with value: 0.7151476955284962.\n",
      "Some weights of BertForQuestionAnswering were not initialized from the model checkpoint at bert-base-cased and are newly initialized: ['qa_outputs.bias', 'qa_outputs.weight']\n",
      "You should probably TRAIN this model on a down-stream task to be able to use it for predictions and inference.\n"
     ]
    },
    {
     "name": "stdout",
     "output_type": "stream",
     "text": [
      "Train Epoch: 1 [1000/10853]\tLoss: 1.076508\tExact Match: 0.1794\tF1: 0.2673\n",
      "Train Epoch: 1 [2000/10853]\tLoss: 2.460409\tExact Match: 0.2921\tF1: 0.4046\n",
      "Train Epoch: 1 [3000/10853]\tLoss: 1.917639\tExact Match: 0.3519\tF1: 0.4738\n",
      "Train Epoch: 1 [4000/10853]\tLoss: 1.332964\tExact Match: 0.3869\tF1: 0.5144\n",
      "Train Epoch: 1 [5000/10853]\tLoss: 1.482956\tExact Match: 0.4092\tF1: 0.5393\n",
      "Train Epoch: 1 [6000/10853]\tLoss: 1.205837\tExact Match: 0.4271\tF1: 0.5599\n",
      "Train Epoch: 1 [7000/10853]\tLoss: 1.177798\tExact Match: 0.4417\tF1: 0.5756\n",
      "Train Epoch: 1 [8000/10853]\tLoss: 1.135452\tExact Match: 0.4528\tF1: 0.5886\n",
      "Train Epoch: 1 [9000/10853]\tLoss: 2.120407\tExact Match: 0.4618\tF1: 0.5990\n",
      "Train Epoch: 1 [10000/10853]\tLoss: 1.558370\tExact Match: 0.4708\tF1: 0.6079\n",
      "Val Epoch: 1 [1000/2538]\tLoss: 1.873512\tExact Match: 0.5603\tF1: 0.7075\n",
      "Val Epoch: 1 [2000/2538]\tLoss: 1.798788\tExact Match: 0.5586\tF1: 0.7047\n",
      "Epoch 1/3:\n",
      "Train Loss: 1.5830, Train Exact Match: 0.4775, Train F1: 0.6151\n",
      "Val Loss: 1.2784, Val Exact Match: 0.5601, Val F1: 0.7072\n",
      "Train Epoch: 2 [1000/10853]\tLoss: 1.451923\tExact Match: 0.6286\tF1: 0.7601\n",
      "Train Epoch: 2 [2000/10853]\tLoss: 0.854175\tExact Match: 0.6296\tF1: 0.7636\n",
      "Train Epoch: 2 [3000/10853]\tLoss: 1.329453\tExact Match: 0.6273\tF1: 0.7616\n",
      "Train Epoch: 2 [4000/10853]\tLoss: 1.036568\tExact Match: 0.6266\tF1: 0.7601\n",
      "Train Epoch: 2 [5000/10853]\tLoss: 0.657002\tExact Match: 0.6240\tF1: 0.7575\n",
      "Train Epoch: 2 [6000/10853]\tLoss: 0.699977\tExact Match: 0.6229\tF1: 0.7562\n",
      "Train Epoch: 2 [7000/10853]\tLoss: 1.016356\tExact Match: 0.6205\tF1: 0.7541\n",
      "Train Epoch: 2 [8000/10853]\tLoss: 0.735725\tExact Match: 0.6185\tF1: 0.7525\n",
      "Train Epoch: 2 [9000/10853]\tLoss: 1.153363\tExact Match: 0.6184\tF1: 0.7526\n",
      "Train Epoch: 2 [10000/10853]\tLoss: 0.503420\tExact Match: 0.6179\tF1: 0.7521\n",
      "Val Epoch: 2 [1000/2538]\tLoss: 0.737269\tExact Match: 0.5749\tF1: 0.7193\n",
      "Val Epoch: 2 [2000/2538]\tLoss: 0.709124\tExact Match: 0.5763\tF1: 0.7206\n",
      "Epoch 2/3:\n",
      "Train Loss: 1.0464, Train Exact Match: 0.6184, Train F1: 0.7526\n",
      "Val Loss: 1.2831, Val Exact Match: 0.5734, Val F1: 0.7198\n",
      "Train Epoch: 3 [1000/10853]\tLoss: 1.088046\tExact Match: 0.7020\tF1: 0.8217\n",
      "Train Epoch: 3 [2000/10853]\tLoss: 0.404770\tExact Match: 0.6981\tF1: 0.8189\n",
      "Train Epoch: 3 [3000/10853]\tLoss: 0.979815\tExact Match: 0.6935\tF1: 0.8137\n",
      "Train Epoch: 3 [4000/10853]\tLoss: 0.614264\tExact Match: 0.6895\tF1: 0.8105\n",
      "Train Epoch: 3 [5000/10853]\tLoss: 0.148686\tExact Match: 0.6870\tF1: 0.8091\n",
      "Train Epoch: 3 [6000/10853]\tLoss: 0.517318\tExact Match: 0.6832\tF1: 0.8073\n",
      "Train Epoch: 3 [7000/10853]\tLoss: 1.014038\tExact Match: 0.6805\tF1: 0.8054\n",
      "Train Epoch: 3 [8000/10853]\tLoss: 0.400884\tExact Match: 0.6789\tF1: 0.8038\n",
      "Train Epoch: 3 [9000/10853]\tLoss: 0.931621\tExact Match: 0.6776\tF1: 0.8028\n",
      "Train Epoch: 3 [10000/10853]\tLoss: 0.644594\tExact Match: 0.6770\tF1: 0.8024\n",
      "Val Epoch: 3 [1000/2538]\tLoss: 0.954103\tExact Match: 0.5639\tF1: 0.7131\n",
      "Val Epoch: 3 [2000/2538]\tLoss: 0.712339\tExact Match: 0.5647\tF1: 0.7117\n",
      "Epoch 3/3:\n",
      "Train Loss: 0.8392, Train Exact Match: 0.6758, Train F1: 0.8013\n",
      "Val Loss: 1.3342, Val Exact Match: 0.5671, Val F1: 0.7128\n"
     ]
    },
    {
     "name": "stderr",
     "output_type": "stream",
     "text": [
      "[I 2024-04-05 21:05:44,969] Trial 1 finished with value: 0.7132777331456029 and parameters: {'num_attention_heads': 16}. Best is trial 0 with value: 0.7151476955284962.\n"
     ]
    },
    {
     "name": "stdout",
     "output_type": "stream",
     "text": [
      "Best number of attention heads: 24\n",
      "Best F1 score: 0.7151476955284962\n"
     ]
    }
   ],
   "source": [
    "import optuna\n",
    "from transformers import BertConfig, BertForQuestionAnswering\n",
    "\n",
    "def objective(trial):\n",
    "    # Define the search space for the number of attention heads\n",
    "    num_attention_heads = trial.suggest_categorical('num_attention_heads', [16,24])\n",
    "\n",
    "    # Load the pre-trained BERT model with the specified number of attention heads\n",
    "    config = BertConfig.from_pretrained('bert-base-cased', num_attention_heads=num_attention_heads,  hidden_size=768)\n",
    "    model = BertForQuestionAnswering.from_pretrained('bert-base-cased', config=config).to(device)\n",
    "    \n",
    "    from transformers import AdamW\n",
    "    optim = AdamW(model.parameters(), lr=5e-5)\n",
    "    model_save_path= '/home/sa.ekbote/cai6307-parsingpandas/num-heads/'\n",
    "\n",
    "    epochs = 3\n",
    "    # Train and evaluate the model (you can use your existing train_and_evaluate function)\n",
    "    train_losses, train_accuracies, val_losses, val_accuracies =  train_and_evaluate(model, train_loader, val_loader, optim, epochs, model_save_path)\n",
    "\n",
    "\n",
    "    # Return the objective value (e.g., the average of the last few validation F1 scores)\n",
    "    return sum([f1 for _, f1 in val_accuracies[-3:]]) / 3 # Average of the last 3 epochs' F1 scores\n",
    "\n",
    "study = optuna.create_study(direction='maximize')\n",
    "study.optimize(objective, n_trials=2)  # Adjust the number of trials as needed\n",
    "\n",
    "print(f\"Best number of attention heads: {study.best_params['num_attention_heads']}\")\n",
    "print(f\"Best F1 score: {study.best_value}\")\n"
   ]
  },
  {
   "cell_type": "code",
   "execution_count": null,
   "id": "f7f61b99-6fa1-465b-98db-f1329104897c",
   "metadata": {},
   "outputs": [],
   "source": []
  }
 ],
 "metadata": {
  "kernelspec": {
   "display_name": "UFRC Python-3.10",
   "language": "python",
   "name": "python3-3.10-ufrc"
  },
  "language_info": {
   "codemirror_mode": {
    "name": "ipython",
    "version": 3
   },
   "file_extension": ".py",
   "mimetype": "text/x-python",
   "name": "python",
   "nbconvert_exporter": "python",
   "pygments_lexer": "ipython3",
   "version": "3.10.8"
  }
 },
 "nbformat": 4,
 "nbformat_minor": 5
}
